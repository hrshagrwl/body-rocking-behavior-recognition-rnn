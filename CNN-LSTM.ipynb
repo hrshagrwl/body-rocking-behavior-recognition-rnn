{
 "cells": [
  {
   "cell_type": "code",
   "execution_count": 1,
   "metadata": {},
   "outputs": [],
   "source": [
    "import numpy as np\n",
    "import pandas as pd\n",
    "\n",
    "import random\n",
    "random.seed(42)"
   ]
  },
  {
   "cell_type": "code",
   "execution_count": 2,
   "metadata": {},
   "outputs": [
    {
     "name": "stderr",
     "output_type": "stream",
     "text": [
      "Using TensorFlow backend.\n"
     ]
    }
   ],
   "source": [
    "from keras.preprocessing import sequence\n",
    "from keras.models import Sequential\n",
    "from keras.layers import Dense, Dropout, Activation\n",
    "from keras.layers import TimeDistributed\n",
    "from keras.layers import LSTM\n",
    "from keras.layers import Conv2D, MaxPooling2D"
   ]
  },
  {
   "cell_type": "code",
   "execution_count": 3,
   "metadata": {},
   "outputs": [],
   "source": [
    "def loadSession(session_name):\n",
    "    datapath = 'Training Data/' + session_name + '/'\n",
    "    t_df = pd.read_csv(datapath + 'time.txt', sep = '\\s+', header = None)\n",
    "    arm = pd.read_csv(datapath + 'armIMU.txt',sep = '\\s+', header = None)\n",
    "    wrist = pd.read_csv(datapath + 'wristIMU.txt', sep = '\\s+',header = None)\n",
    "    labels = pd.read_csv(datapath + 'detection.txt', sep = '\\s+',header = None)\n",
    "    observations = pd.concat([arm, wrist], axis = 1)\n",
    "    return observations, labels\n",
    "\n",
    "random.shuffle(session_ids)\n",
    "\n",
    "training = session_ids[0:-2]\n",
    "validation = session_ids[-2:]\n",
    "\n",
    "\n",
    "def getData(sessions):\n",
    "    observations = []\n",
    "    labels = []\n",
    "\n",
    "    for session in sessions:\n",
    "        raw_X, raw_y = loadSession(session)\n",
    "        observations.append(raw_X)\n",
    "        labels.append(raw_y)\n",
    "\n",
    "    X = pd.concat(observations)\n",
    "    y = pd.concat(labels)\n",
    "    \n",
    "    return X, np.array(y[[0]]).ravel()\n",
    "\n",
    "X_train, y_train = getData(['Session01'])"
   ]
  },
  {
   "cell_type": "code",
   "execution_count": 6,
   "metadata": {},
   "outputs": [
    {
     "data": {
      "text/plain": [
       "(254455, 12)"
      ]
     },
     "execution_count": 6,
     "metadata": {},
     "output_type": "execute_result"
    }
   ],
   "source": [
    "X_train.shape"
   ]
  },
  {
   "cell_type": "code",
   "execution_count": 5,
   "metadata": {},
   "outputs": [
    {
     "data": {
      "text/plain": [
       "array([0., 0., 0., ..., 0., 0., 0.])"
      ]
     },
     "execution_count": 5,
     "metadata": {},
     "output_type": "execute_result"
    }
   ],
   "source": [
    "n_features = 12\n",
    "n_seq = \n",
    "n_steps = 2\n",
    "X = X.reshape((X.shape[0], n_seq, n_steps, n_features))\n",
    "\n",
    "model = Sequential()\n",
    "model.add(TimeDistributed(Conv1D(filters=64, kernel_size=1, activation='relu'), input_shape=(None, n_steps, n_features)))\n",
    "model.add(TimeDistributed(MaxPooling1D(pool_size=2)))\n",
    "model.add(TimeDistributed(Flatten()))\n",
    "model.add(LSTM(50, activation='relu'))\n",
    "model.add(Dense(2))\n",
    "model.compile(optimizer='adam', loss='mse')"
   ]
  },
  {
   "cell_type": "code",
   "execution_count": 18,
   "metadata": {},
   "outputs": [
    {
     "data": {
      "text/plain": [
       "['',\n",
       " 'Session06',\n",
       " 'Session01',\n",
       " 'Session07',\n",
       " 'Session13',\n",
       " 'Session12',\n",
       " 'Session15',\n",
       " 'Session02',\n",
       " 'Session05',\n",
       " 'Session03',\n",
       " 'Session16']"
      ]
     },
     "execution_count": 18,
     "metadata": {},
     "output_type": "execute_result"
    }
   ],
   "source": [
    "import os\n",
    "\n",
    "sessions = [x[0].split('/')[1] for x in os.walk('Training Data B/')]\n",
    "sessions"
   ]
  },
  {
   "cell_type": "code",
   "execution_count": null,
   "metadata": {},
   "outputs": [],
   "source": []
  }
 ],
 "metadata": {
  "kernelspec": {
   "display_name": "Python [conda env:deeplearning]",
   "language": "python",
   "name": "conda-env-deeplearning-py"
  },
  "language_info": {
   "codemirror_mode": {
    "name": "ipython",
    "version": 3
   },
   "file_extension": ".py",
   "mimetype": "text/x-python",
   "name": "python",
   "nbconvert_exporter": "python",
   "pygments_lexer": "ipython3",
   "version": "3.6.6"
  }
 },
 "nbformat": 4,
 "nbformat_minor": 2
}
