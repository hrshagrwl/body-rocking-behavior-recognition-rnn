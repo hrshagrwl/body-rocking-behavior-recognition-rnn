{
 "cells": [
  {
   "cell_type": "code",
   "execution_count": 1,
   "metadata": {},
   "outputs": [],
   "source": [
    "import numpy as np\n",
    "import pandas as pd\n",
    "\n",
    "from scipy.stats import mode\n",
    "from scipy.stats import skew\n",
    "from scipy.stats import kurtosis\n",
    "\n",
    "datapath = 'Training Data/Session01/'\n",
    "\n",
    "t_df = pd.read_csv(datapath + 'time.txt', sep = '\\s+', header = None)\n",
    "\n",
    "arm = pd.read_csv(datapath + 'armIMU.txt',sep = '\\s+', header = None)\n",
    "wrist = pd.read_csv(datapath + 'wristIMU.txt', sep = '\\s+',header = None)\n",
    "\n",
    "detected = pd.read_csv(datapath + 'detection.txt', sep = '\\s+',header = None)\n",
    "\n",
    "stride = 25\n",
    "\n",
    "\n",
    "def extractFeatures(df):\n",
    "    l = 0\n",
    "    r = 3\n",
    "    f = []\n",
    "    for i in range(0,4):\n",
    "        temp = df.iloc[:,l:r]\n",
    "        f1 = list(temp.mean())\n",
    "        \n",
    "        C = temp.cov()\n",
    "        f2 = []\n",
    "        f2 += list(C.iloc[0,1:3])\n",
    "        f2 += list(C.iloc[1,[0,2]])\n",
    "        f2 += list(C.iloc[2,0:2])\n",
    "        \n",
    "        f3 = list(temp.apply(skew, axis = 0))\n",
    "        f4 = list(temp.apply(kurtosis, axis = 0))\n",
    "        \n",
    "        f5 = list(temp.max())\n",
    "        f6 = list(temp.min())\n",
    "        \n",
    "        l += 3\n",
    "        r += 3\n",
    "        ff = f1 + f2 + f3 + f4 + f5 + f6\n",
    "        f += ff\n",
    "    return f\n",
    "    \n",
    "extracted = []\n",
    "y = []\n",
    "X = pd.concat([arm, wrist], axis = 1)\n",
    "\n",
    "for i in range(150, len(X), stride):\n",
    "    extracted.append(extractFeatures(X.iloc[i-150:i,])) \n",
    "    label = mode(detected.iloc[i-150:i,])[0]\n",
    "    y.append(label[0][0])"
   ]
  },
  {
   "cell_type": "code",
   "execution_count": 4,
   "metadata": {},
   "outputs": [
    {
     "name": "stdout",
     "output_type": "stream",
     "text": [
      "(10173, 84)\n"
     ]
    },
    {
     "data": {
      "text/plain": [
       "0.958904109589041"
      ]
     },
     "execution_count": 4,
     "metadata": {},
     "output_type": "execute_result"
    }
   ],
   "source": [
    "from sklearn.ensemble import RandomForestClassifier\n",
    "from sklearn.model_selection import train_test_split\n",
    "from sklearn.metrics import accuracy_score\n",
    "\n",
    "\n",
    "\n",
    "X = pd.DataFrame(extracted)\n",
    "print(X.shape)\n",
    "\n",
    "x_train, x_test, y_train, y_test = train_test_split(X, prediction, test_size=0.33)\n",
    "randFor = RandomForestClassifier(class_weight='balanced', n_estimators = 10, max_depth = 10, criterion='entropy')\n",
    "# Training the model\n",
    "randFor.fit(x_train, y_train) \n",
    "\n",
    "# Make predictions on val data\n",
    "\n",
    "y_pred = randFor.predict(x_test)\n",
    "accuracy_score(y_pred, y_test)"
   ]
  },
  {
   "cell_type": "code",
   "execution_count": null,
   "metadata": {},
   "outputs": [],
   "source": [
    "def createCSV(y):\n",
    "    for int"
   ]
  },
  {
   "cell_type": "code",
   "execution_count": null,
   "metadata": {},
   "outputs": [],
   "source": []
  }
 ],
 "metadata": {
  "kernelspec": {
   "display_name": "Python [conda env:deeplearning]",
   "language": "python",
   "name": "conda-env-deeplearning-py"
  },
  "language_info": {
   "codemirror_mode": {
    "name": "ipython",
    "version": 3
   },
   "file_extension": ".py",
   "mimetype": "text/x-python",
   "name": "python",
   "nbconvert_exporter": "python",
   "pygments_lexer": "ipython3",
   "version": "3.6.6"
  }
 },
 "nbformat": 4,
 "nbformat_minor": 2
}
