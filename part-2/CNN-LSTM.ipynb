{
 "cells": [
  {
   "cell_type": "code",
   "execution_count": 17,
   "metadata": {},
   "outputs": [],
   "source": [
    "import os\n",
    "import random\n",
    "random.seed(7)\n",
    "import numpy as np\n",
    "import pandas as pd\n",
    "from scipy.stats import mode\n",
    "from scipy.stats import skew\n",
    "from scipy.stats import kurtosis\n",
    "\n",
    "# Constants for stride\n",
    "stride = 50\n",
    "window = 150\n",
    "\n",
    "# Constants for reshaping the data before feeding into the network\n",
    "n_features = 12\n",
    "n_seq = 150\n",
    "n_steps = 1\n",
    "\n",
    "TRAIN_DATA_PATH = '../data/part-2/Training Data B/'\n",
    "TEST_DATA_PATH = '../data/part-2/Test Data 2/'\n",
    "\n",
    "def get_session_sets():\n",
    "    session_ids = get_session_list(TRAIN_DATA_PATH)\n",
    "    random.shuffle(session_ids)\n",
    "    \n",
    "    training = session_ids[0:-2]\n",
    "    validation = session_ids[-2:]\n",
    "    \n",
    "    return training, validation\n",
    "\n",
    "def get_session_list(path):\n",
    "    sessions = [x[0].split('/')[4] for x in os.walk(path)]\n",
    "    sessions = list(filter(lambda x: len(x) > 0, sessions))\n",
    "    return sessions\n",
    "\n",
    "def load_session(path, session_name, data_type):\n",
    "    datapath =  path + session_name + '/'\n",
    "    t_df = pd.read_csv(datapath + 'time.txt', sep = '\\s+', header = None)\n",
    "    arm = pd.read_csv(datapath + 'armIMU.txt',sep = '\\s+', header = None)\n",
    "    wrist = pd.read_csv(datapath + 'wristIMU.txt', sep = '\\s+',header = None)\n",
    "    observations = pd.concat([arm, wrist], axis = 1)\n",
    "    \n",
    "    if (data_type != 'test'):\n",
    "        labels = pd.read_csv(datapath + 'detection.txt', sep = '\\s+',header = None)\n",
    "    else:\n",
    "        labels = pd.DataFrame()\n",
    "    \n",
    "    return observations, labels\n",
    "\n",
    "def shape_data(observations, labels):\n",
    "    X = []\n",
    "    y = []\n",
    "    for i in range(window, len(observations), stride):\n",
    "        X.append(np.ravel(observations.iloc[i-window:i,]))\n",
    "        if labels.empty:\n",
    "            continue\n",
    "        \n",
    "        label = mode(labels.iloc[i-window:i,])[0]\n",
    "        y.append(label[0][0])\n",
    "        \n",
    "    return pd.DataFrame(X), pd.DataFrame(y)\n",
    "    \n",
    "\n",
    "\n",
    "def load_data(sessions, session_type):\n",
    "    observations = []\n",
    "    labels = []\n",
    "    path = TEST_DATA_PATH if session_type == 'test' else TRAIN_DATA_PATH\n",
    "    \n",
    "    for session in sessions:\n",
    "        raw_X, raw_y = load_session(path, session, session_type)\n",
    "        X, y = shape_data(raw_X, raw_y)\n",
    "        observations.append(X)\n",
    "        labels.append(y)\n",
    "\n",
    "    X = pd.concat(observations)\n",
    "    y = pd.concat(labels)\n",
    "    if not y.empty:\n",
    "        y = np.array(y[[0]]).ravel()\n",
    "    \n",
    "    return X, y\n",
    "\n",
    "\n",
    "def reshape(df):\n",
    "    return df.values.reshape((df.shape[0], n_steps, n_seq, n_features))\n",
    "    "
   ]
  },
  {
   "cell_type": "code",
   "execution_count": 18,
   "metadata": {},
   "outputs": [
    {
     "name": "stdout",
     "output_type": "stream",
     "text": [
      "----- Shape of training data ---------\n",
      "(21982, 1, 150, 12)\n",
      "--------------------------------------\n",
      "----- Shape of validation data -------\n",
      "(5332, 1, 150, 12)\n",
      "--------------------------------------\n"
     ]
    }
   ],
   "source": [
    "training, validation = get_session_sets()\n",
    "\n",
    "X_train, y_train = load_data(training, 'train')\n",
    "X_val, y_val = load_data(validation, 'val')\n",
    "\n",
    "X_train = reshape(X_train)\n",
    "X_val = reshape(X_val)\n",
    "\n",
    "print('----- Shape of training data ---------')\n",
    "print(X_train.shape)\n",
    "print('--------------------------------------')\n",
    "print('----- Shape of validation data -------')\n",
    "print(X_val.shape)\n",
    "print('--------------------------------------')"
   ]
  },
  {
   "cell_type": "code",
   "execution_count": 19,
   "metadata": {},
   "outputs": [
    {
     "name": "stderr",
     "output_type": "stream",
     "text": [
      "Using TensorFlow backend.\n"
     ]
    }
   ],
   "source": [
    "from keras.models import Sequential\n",
    "from keras.layers import Dense, Dropout, Activation\n",
    "from keras.layers import TimeDistributed\n",
    "from keras.layers import LSTM\n",
    "from keras.layers import Conv1D, MaxPooling1D\n",
    "from keras.layers import Flatten\n",
    "from keras.layers import Dropout\n",
    "\n",
    "def getModel():\n",
    "    model = Sequential()\n",
    "    model.add(TimeDistributed(Conv1D(filters=32, kernel_size=3, activation='relu'), input_shape=(None, n_seq, n_features)))\n",
    "    model.add(TimeDistributed(Conv1D(filters=64, kernel_size=3, activation='relu')))\n",
    "    model.add(TimeDistributed(MaxPooling1D(pool_size=2)))\n",
    "    model.add(TimeDistributed(Flatten()))\n",
    "    model.add(Dropout(0.5))\n",
    "    model.add(LSTM(100, activation='relu'))\n",
    "    model.add(Dense(1, activation='sigmoid'))\n",
    "    model.compile(optimizer='adam', \n",
    "                  loss='mse', \n",
    "                  metrics = ['accuracy'])\n",
    "    \n",
    "    return model"
   ]
  },
  {
   "cell_type": "code",
   "execution_count": 20,
   "metadata": {},
   "outputs": [
    {
     "name": "stdout",
     "output_type": "stream",
     "text": [
      "Train on 21982 samples, validate on 5332 samples\n",
      "Epoch 1/10\n",
      "21982/21982 [==============================] - 11s 493us/step - loss: 0.1763 - acc: 0.7934 - val_loss: 0.1272 - val_acc: 0.8492\n",
      "Epoch 2/10\n",
      "21982/21982 [==============================] - 9s 416us/step - loss: 0.1175 - acc: 0.8563 - val_loss: 0.1065 - val_acc: 0.8757\n",
      "Epoch 3/10\n",
      "21982/21982 [==============================] - 9s 419us/step - loss: 0.0990 - acc: 0.8789 - val_loss: 0.1036 - val_acc: 0.8753\n",
      "Epoch 4/10\n",
      "21982/21982 [==============================] - 9s 422us/step - loss: 0.0882 - acc: 0.8919 - val_loss: 0.0977 - val_acc: 0.8803\n",
      "Epoch 5/10\n",
      "21982/21982 [==============================] - 9s 424us/step - loss: 0.0813 - acc: 0.9003 - val_loss: 0.0963 - val_acc: 0.8858\n",
      "Epoch 6/10\n",
      "21982/21982 [==============================] - 9s 423us/step - loss: 0.0790 - acc: 0.9010 - val_loss: 0.1056 - val_acc: 0.8693\n",
      "Epoch 7/10\n",
      "21982/21982 [==============================] - 9s 425us/step - loss: 0.0723 - acc: 0.9114 - val_loss: 0.0984 - val_acc: 0.8800\n",
      "Epoch 8/10\n",
      "21982/21982 [==============================] - 9s 431us/step - loss: 0.0719 - acc: 0.9127 - val_loss: 0.0986 - val_acc: 0.8785\n",
      "Epoch 9/10\n",
      "21982/21982 [==============================] - 9s 428us/step - loss: 0.0679 - acc: 0.9169 - val_loss: 0.1031 - val_acc: 0.8708\n",
      "Epoch 10/10\n",
      "21982/21982 [==============================] - 10s 432us/step - loss: 0.0643 - acc: 0.9210 - val_loss: 0.1095 - val_acc: 0.8616\n"
     ]
    }
   ],
   "source": [
    "model = getModel()\n",
    "history = model.fit(X_train, y_train, \n",
    "              epochs = 10, \n",
    "              batch_size = 250, \n",
    "              verbose = 1, \n",
    "              validation_data = (X_val, y_val))"
   ]
  },
  {
   "cell_type": "code",
   "execution_count": 21,
   "metadata": {},
   "outputs": [
    {
     "data": {
      "text/plain": [
       "<keras.callbacks.History at 0x116b40390>"
      ]
     },
     "execution_count": 21,
     "metadata": {},
     "output_type": "execute_result"
    }
   ],
   "source": [
    "history"
   ]
  },
  {
   "cell_type": "code",
   "execution_count": 26,
   "metadata": {},
   "outputs": [
    {
     "data": {
      "image/png": "[encoded data removed]",
      "text/plain": [
       "<Figure size 432x288 with 1 Axes>"
      ]
     },
     "metadata": {
      "needs_background": "light"
     },
     "output_type": "display_data"
    },
    {
     "data": {
      "text/plain": [
       "<Figure size 432x288 with 0 Axes>"
      ]
     },
     "metadata": {},
     "output_type": "display_data"
    }
   ],
   "source": [
    "import matplotlib.pyplot as plt\n",
    "\n",
    "plot_name = 'Accuracy'\n",
    "plt.plot(history.history['acc'], label = 'Traning Accuracy')\n",
    "plt.plot(history.history['val_acc'], label = 'Validation Accuracy')\n",
    "plt.ylabel('Accuracy')\n",
    "plt.xlabel('Epochs')\n",
    "plt.title('Acurracy vs Epochs')\n",
    "plt.legend()\n",
    "plt.savefig('{}.png'.format(plot_name))\n",
    "plt.show()\n",
    "plt.clf() "
   ]
  },
  {
   "cell_type": "code",
   "execution_count": 23,
   "metadata": {},
   "outputs": [
    {
     "data": {
      "image/png": "[encoded data removed]",
      "text/plain": [
       "<Figure size 432x288 with 1 Axes>"
      ]
     },
     "metadata": {
      "needs_background": "light"
     },
     "output_type": "display_data"
    },
    {
     "data": {
      "text/plain": [
       "<Figure size 432x288 with 0 Axes>"
      ]
     },
     "metadata": {},
     "output_type": "display_data"
    }
   ],
   "source": [
    "plot_name = 'Loss'\n",
    "plt.plot(history.history['loss'], label = 'Traning Loss')\n",
    "plt.plot(history.history['val_loss'], label = 'Validation Loss')\n",
    "plt.ylabel('Loss')\n",
    "plt.xlabel('Epochs')\n",
    "plt.legend()\n",
    "plt.savefig('{}.png'.format(plot_name))\n",
    "plt.show()\n",
    "plt.clf() "
   ]
  },
  {
   "cell_type": "code",
   "execution_count": 24,
   "metadata": {},
   "outputs": [],
   "source": [
    "def createCSV(session, y, obs):\n",
    "    result = np.zeros(obs)\n",
    "    idx = 0\n",
    "    for label in y:\n",
    "        for j in range(0, window):\n",
    "            result[idx + j] = label\n",
    "        idx += stride\n",
    "    np.savetxt(TEST_DATA_PATH + session + \"/prediction.txt\", result, delimiter=\",\")\n",
    "    print(\"CSV Saved\")\n",
    "    return result"
   ]
  },
  {
   "cell_type": "code",
   "execution_count": 25,
   "metadata": {},
   "outputs": [
    {
     "name": "stdout",
     "output_type": "stream",
     "text": [
      "CSV Saved\n",
      "CSV Saved\n",
      "CSV Saved\n",
      "CSV Saved\n"
     ]
    }
   ],
   "source": [
    "from sklearn.metrics import accuracy_score\n",
    "from sklearn.metrics import precision_recall_fscore_support\n",
    "\n",
    "test_sessions = get_session_list(TEST_DATA_PATH)\n",
    "for sess in test_sessions:\n",
    "    raw_X_test, raw_y_test = load_session(TEST_DATA_PATH, sess, 'test')\n",
    "    X_test, y_test = load_data([sess], 'test')\n",
    "    X_test = reshape(X_test)\n",
    "    y_pred = model.predict(X_test)\n",
    "    y_pred[y_pred >= 0.5] = 1\n",
    "    y_pred[y_pred < 0.5] = 0\n",
    "    createCSV(sess, y_pred, len(raw_X_test))\n"
   ]
  },
  {
   "cell_type": "code",
   "execution_count": null,
   "metadata": {},
   "outputs": [],
   "source": []
  }
 ],
 "metadata": {
  "kernelspec": {
   "display_name": "Python [conda env:deeplearning]",
   "language": "python",
   "name": "conda-env-deeplearning-py"
  },
  "language_info": {
   "codemirror_mode": {
    "name": "ipython",
    "version": 3
   },
   "file_extension": ".py",
   "mimetype": "text/x-python",
   "name": "python",
   "nbconvert_exporter": "python",
   "pygments_lexer": "ipython3",
   "version": "3.6.6"
  }
 },
 "nbformat": 4,
 "nbformat_minor": 2
}
